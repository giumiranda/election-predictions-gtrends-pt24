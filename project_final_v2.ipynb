{
 "cells": [
  {
   "cell_type": "code",
   "execution_count": null,
   "id": "24eb2807-7071-4c9d-8629-228344109f35",
   "metadata": {},
   "outputs": [],
   "source": [
    "import pandas as pd\n",
    "import numpy as np\n",
    "import warnings\n",
    "warnings.filterwarnings('ignore')\n",
    "\n",
    "import matplotlib.pyplot as plt\n",
    "%matplotlib inline\n",
    "\n",
    "import seaborn as sns\n",
    "from sklearn import datasets\n",
    "import statsmodels.api as sm\n",
    "import pmdarima as pm"
   ]
  },
  {
   "cell_type": "markdown",
   "id": "e41b576f-8ecc-4673-94bb-13d24544e663",
   "metadata": {},
   "source": [
    "# Data showing the trends for the parties names"
   ]
  },
  {
   "cell_type": "code",
   "execution_count": null,
   "id": "6c9d3786-1bd7-4fd5-bd33-1c4acd61d20e",
   "metadata": {
    "scrolled": true
   },
   "outputs": [],
   "source": [
    "parties_30_days = pd.read_csv('/Users/giulianamiranda/Documents/final_project/30_days_parties.csv', sep=';')\n",
    "parties_30_days\n",
    "\n",
    "# parties_30_days = pd.read_csv('/Users/giulianamiranda/Downloads/multiTimeline (2).csv', sep=';')"
   ]
  },
  {
   "cell_type": "code",
   "execution_count": null,
   "id": "f1f80aa1-6c40-4a13-9b00-1531469c6c21",
   "metadata": {},
   "outputs": [],
   "source": [
    "parties_30_days['day_sum'] =  parties_30_days[['PS', 'AD', 'Chega', 'Iniciativa Liberal', 'Bloco de Esquerda']].sum(axis=1)"
   ]
  },
  {
   "cell_type": "code",
   "execution_count": null,
   "id": "7d24b952-216b-4344-a623-c1e8830c2a72",
   "metadata": {},
   "outputs": [],
   "source": [
    "parties_30_days['Date'] = pd.to_datetime(parties_30_days['Date'])\n",
    "parties_30_days.index = pd.DatetimeIndex(parties_30_days['Date'])"
   ]
  },
  {
   "cell_type": "code",
   "execution_count": null,
   "id": "aa547954-8773-4ad7-af34-03056c2cd2c5",
   "metadata": {
    "scrolled": true
   },
   "outputs": [],
   "source": [
    "parties_30_days['PS_relative'] = parties_30_days['PS'] / parties_30_days['day_sum']\n",
    "parties_30_days['AD_relative'] = parties_30_days['AD'] / parties_30_days['day_sum']\n",
    "parties_30_days['Chega_relative'] = parties_30_days['Chega'] / parties_30_days['day_sum']\n",
    "parties_30_days['IL_relative'] = parties_30_days['Iniciativa Liberal'] / parties_30_days['day_sum']\n",
    "parties_30_days['BE_relative'] = parties_30_days['Bloco de Esquerda'] / parties_30_days['day_sum']\n",
    "\n"
   ]
  },
  {
   "cell_type": "code",
   "execution_count": null,
   "id": "ce37d2dc-57f6-4bf5-9ec5-7abd0c59ac93",
   "metadata": {},
   "outputs": [],
   "source": [
    "parties_30_days"
   ]
  },
  {
   "cell_type": "code",
   "execution_count": null,
   "id": "040ca27a-03ac-428d-8402-c83eaf4b24bf",
   "metadata": {},
   "outputs": [],
   "source": [
    "# I'm creating individual dataframes with the trends and the relative seach interest for each party\n",
    "\n",
    "df_PS = parties_30_days[['PS_relative']]\n",
    "df_AD = parties_30_days[['AD_relative']]\n",
    "df_CH = parties_30_days[['Chega_relative']]\n",
    "df_IL = parties_30_days[['IL_relative']]\n",
    "df_BE = parties_30_days[['BE_relative']]"
   ]
  },
  {
   "cell_type": "code",
   "execution_count": null,
   "id": "4857ea5c-ff48-4bee-9fa2-4ad69d03b622",
   "metadata": {},
   "outputs": [],
   "source": [
    "# A function to plot the seasonal trends of each party\n",
    "\n",
    "parties_df = [df_PS, df_AD, df_CH, df_IL, df_BE] \n",
    "\n",
    "def plot_relative(dataframes):\n",
    "    for df in dataframes:\n",
    "        decomp = sm.tsa.seasonal_decompose(df.iloc[:, 0])\n",
    "        decomp.plot()\n",
    "        plt.show()  # Show the plot for each DataFrame\n",
    "\n",
    "plot_relative(parties_df)"
   ]
  },
  {
   "cell_type": "markdown",
   "id": "c5f2ab47-f557-4783-a134-5a7d010ef85e",
   "metadata": {},
   "source": [
    "# Creating ARIMA Models to predict the electoral outcome of each party"
   ]
  },
  {
   "cell_type": "code",
   "execution_count": null,
   "id": "3055713f-886e-49c9-989b-d410f383548e",
   "metadata": {},
   "outputs": [],
   "source": [
    "# Model for PS \n",
    "\n",
    "autoarima_PS = pm.auto_arima(df_PS, seasonal=False, suppress_warnings=True)\n",
    "\n",
    "# Show the best results\n",
    "print(\"Best ARIMA parameters:\", autoarima_PS.order)\n",
    "\n",
    "# Adjusting the model\n",
    "final_autoarima_PS = autoarima_PS.fit(df_PS)\n",
    "\n",
    "# Making the prediction\n",
    "prediction_PS = final_autoarima_PS.predict(n_periods=1)  # Predicting election date\n",
    "\n",
    "# Visualizar os resultados\n",
    "print(\"Prediction:\", prediction_PS)"
   ]
  },
  {
   "cell_type": "code",
   "execution_count": null,
   "id": "47a11b34-a359-47fc-b24c-2219b6fe97c8",
   "metadata": {},
   "outputs": [],
   "source": [
    "# Model for AD\n",
    "\n",
    "autoarima_AD = pm.auto_arima(df_AD, seasonal=False, suppress_warnings=True)\n",
    "\n",
    "# Show the best results\n",
    "print(\"Best parameters ARIMA:\", autoarima_AD.order)\n",
    "\n",
    "# Adjusting the model\n",
    "final_autoarima_AD = autoarima_AD.fit(df_PS)\n",
    "\n",
    "# Making the prediction\n",
    "prediction_AD = final_autoarima_AD.predict(n_periods=1)  # Predicting election date\n",
    "\n",
    "# Visualizar os resultados\n",
    "print(\"Prediction:\", prediction_AD)"
   ]
  },
  {
   "cell_type": "code",
   "execution_count": null,
   "id": "e5699aeb-7b69-4c35-80df-674d380d3b5d",
   "metadata": {},
   "outputs": [],
   "source": [
    "# Model for Chega\n",
    "\n",
    "autoarima_CH = pm.auto_arima(df_CH, seasonal=False, suppress_warnings=True)\n",
    "print(\"Best parameters ARIMA:\", autoarima_CH.order)\n",
    "final_autoarima_CH = autoarima_CH.fit(df_CH)\n",
    "\n",
    "# Making the prediction\n",
    "prediction_CH = final_autoarima_CH.predict(n_periods=1)  # Predicting election date\n",
    "print(\"Prediction for Chega:\", prediction_CH)"
   ]
  },
  {
   "cell_type": "code",
   "execution_count": null,
   "id": "c7832a84-94fb-477f-ac98-d8854bfc0850",
   "metadata": {},
   "outputs": [],
   "source": [
    "# Model for Iniciativa Liberal\n",
    "\n",
    "autoarima_IL = pm.auto_arima(df_IL, seasonal=False, suppress_warnings=True)\n",
    "print(\"Best parameters ARIMA:\", autoarima_IL.order)\n",
    "final_autoarima_IL = autoarima_IL.fit(df_IL)\n",
    "\n",
    "# Making the prediction\n",
    "prediction_IL = final_autoarima_IL.predict(n_periods=1)  # Predicting election date\n",
    "print(\"Prediction for Iniciativa Liberal\", prediction_IL)"
   ]
  },
  {
   "cell_type": "code",
   "execution_count": null,
   "id": "dcf69a24-38d0-4bda-a107-3be88fee3e97",
   "metadata": {
    "scrolled": true
   },
   "outputs": [],
   "source": [
    "# Model for Bloco de Esquerda\n",
    "\n",
    "autoarima_BE = pm.auto_arima(df_BE, seasonal=False, suppress_warnings=True)\n",
    "print(\"Best parameters ARIMA:\", autoarima_BE.order)\n",
    "final_autoarima_BE = autoarima_BE.fit(df_BE)\n",
    "\n",
    "# Making the prediction\n",
    "prediction_BE = final_autoarima_BE.predict(n_periods=1)  # Predicting election date\n",
    "print(\"Prediction for Bloco de Esquerda\", prediction_BE)"
   ]
  },
  {
   "cell_type": "code",
   "execution_count": null,
   "id": "6a8be594-683c-43bf-9285-70ba352c71b1",
   "metadata": {},
   "outputs": [],
   "source": [
    "# Comparing the election outome with what the models predicted\n",
    "\n",
    "results_vs_model = pd.read_excel('/Users/giulianamiranda/Documents/final_project/Results_Elections_2024.xlsx')\n",
    "results_vs_model['Difference'] = results_vs_model['Prediction'] - results_vs_model['Result']\n",
    "results_vs_model = results_vs_model.drop(columns=['Image'])\n",
    "results_vs_model\n"
   ]
  },
  {
   "cell_type": "code",
   "execution_count": null,
   "id": "578a2489-fd8a-41ec-9b53-1a9ef3218807",
   "metadata": {},
   "outputs": [],
   "source": [
    "# Conclusion \n",
    "\n",
    "# There are probably many explanations for that. Essentially, there are things that pushed the search volume up for those competitors\n",
    "\n",
    "# To begin with, I'd consider the demographics as an hypothesis\n",
    "# Both Chega and IL have proportionally more young voters -- from 18 to 34 years old–- than the other candidates\n",
    "# The youth tend to use more Google, and it could help to increase the search volume\n",
    "\n",
    "# Also, the two parties are the youngest of the top, which would naturally drive more curiosity around there proposals\n",
    "\n",
    "# The worst result was with Chega, a party known for several polemics, including making negative remarks towards ethnical and racial minorities\n",
    "# The 'bad' attention could also be a factor to increase search trends"
   ]
  }
 ],
 "metadata": {
  "kernelspec": {
   "display_name": "Python 3 (ipykernel)",
   "language": "python",
   "name": "python3"
  },
  "language_info": {
   "codemirror_mode": {
    "name": "ipython",
    "version": 3
   },
   "file_extension": ".py",
   "mimetype": "text/x-python",
   "name": "python",
   "nbconvert_exporter": "python",
   "pygments_lexer": "ipython3",
   "version": "3.11.7"
  }
 },
 "nbformat": 4,
 "nbformat_minor": 5
}
